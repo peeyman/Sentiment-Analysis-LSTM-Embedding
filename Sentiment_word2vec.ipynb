{
 "cells": [
  {
   "cell_type": "markdown",
   "metadata": {},
   "source": [
    "# Sentiment Analysis with Word Embedding"
   ]
  },
  {
   "cell_type": "markdown",
   "metadata": {},
   "source": [
    "<p style=text:justify>In  this notebook I am going to design a simple sentiment analysis model using a deep structure that utilizes LSTM and word embedding. The goals of this notebook can be summarized as follows.</p>"
   ]
  },
  {
   "cell_type": "markdown",
   "metadata": {},
   "source": [
    "- How to design a simple deep learning structure with LSTM cells and embedding layer.\n",
    "- How to include an embedding layer as a part of the model structure.\n",
    "- How to use pre-trained embeddings and build upon that.\n",
    "- Inspecting some properties of embedding models."
   ]
  },
  {
   "cell_type": "markdown",
   "metadata": {},
   "source": [
    "# Sentiment Analysis"
   ]
  },
  {
   "cell_type": "markdown",
   "metadata": {},
   "source": [
    "<p style='text-align:justify'>Sentiment Analysis is the process of extracting or inferring opinions from given texts. Sentiment Analysis sometimes called Opinion Mining is one of the most important fields within NLP, which has many practical applications. Thanks to Sentiment Analysis ,text , this unstructured information, can be transformed into structured opinion about products, services, brands, and any topics that people can express their feeling and opinion about. </p>\n",
    "\n",
    "<p style='text-align:justify'>Sentiment Analysis more broadly is categorized under text classification. The number of categories in Sentiment Analysis can be varied depending on the application. For example, a movie sentiment can be categorized into positive, negative, or neutral. However, depending on the needs of the application, more fine-grained categories like very positive, positive, neutral, negative, and very negative can be used.</p>"
   ]
  },
  {
   "cell_type": "markdown",
   "metadata": {},
   "source": [
    "# Inspecting data"
   ]
  },
  {
   "cell_type": "markdown",
   "metadata": {},
   "source": [
    "<p style='text-align:justify'>The dataset chosen for for this notebook is the IMDB movie review dataset. Keras has provided a number of datasets and fortunately IMDB movie review dataset is one of them. The sentiments in this dataset are binary, namely positive and negative. This dataset contains 50,000 movie reviews where each review is represented as a sentence of words indexes. It provides a balanced train/test split, i.e. 25,000 reviews for train and 25,000 reviews for test. Another interesting feature is that words are sorted according to to their frequencies. For example, the index 2 corresponds to the second most frequent word in the data. And conventionally, 0 does not correspond to any specific word, instead it is used to represent any unknown words. </p>\n",
    "\n",
    "Now, let's load the data and play with some of its features."
   ]
  },
  {
   "cell_type": "code",
   "execution_count": 3,
   "metadata": {},
   "outputs": [
    {
     "name": "stderr",
     "output_type": "stream",
     "text": [
      "/home/peyman/anaconda3/lib/python3.6/site-packages/h5py/__init__.py:36: FutureWarning: Conversion of the second argument of issubdtype from `float` to `np.floating` is deprecated. In future, it will be treated as `np.float64 == np.dtype(float).type`.\n",
      "  from ._conv import register_converters as _register_converters\n",
      "Using TensorFlow backend.\n"
     ]
    }
   ],
   "source": [
    "from keras.datasets import imdb"
   ]
  },
  {
   "cell_type": "code",
   "execution_count": 4,
   "metadata": {},
   "outputs": [],
   "source": [
    "vocabulary_size = 5000\n",
    "(X_train,y_train), (X_test,y_test) = imdb.load_data(num_words=vocabulary_size,seed=113,skip_top=0)"
   ]
  },
  {
   "cell_type": "markdown",
   "metadata": {},
   "source": [
    "<p style='text-align:justify'>In the above code ‘vocabulary_size’ is chosen to be 5000 and then is used to set the num_words argument. It means that we are only loading the first 5000 most frequent words. ‘seed’ argument is used for reproducibility purposes to fix the shuffling of the data. ‘skip_top’ is used to skip the top frequent words, which we are not going to skip any; however, it is just mentioned for the sake of getting familiar with it.</p>"
   ]
  },
  {
   "cell_type": "markdown",
   "metadata": {},
   "source": [
    "Let's print the number of samples in train and test."
   ]
  },
  {
   "cell_type": "code",
   "execution_count": 5,
   "metadata": {},
   "outputs": [
    {
     "name": "stdout",
     "output_type": "stream",
     "text": [
      "Number of training samples=25000, Number of test samples=25000\n"
     ]
    }
   ],
   "source": [
    "print('Number of training samples={}, Number of test samples={}'.format(len(X_train), len(X_test)))"
   ]
  },
  {
   "cell_type": "markdown",
   "metadata": {},
   "source": [
    "To look at a specific review, we can use its index as follows."
   ]
  },
  {
   "cell_type": "code",
   "execution_count": 6,
   "metadata": {},
   "outputs": [
    {
     "name": "stdout",
     "output_type": "stream",
     "text": [
      "[1, 2, 365, 1234, 5, 1156, 354, 11, 14, 2, 2, 7, 1016, 2, 2, 356, 44, 4, 1349, 500, 746, 5, 200, 4, 4132, 11, 2, 2, 1117, 1831, 2, 5, 4831, 26, 6, 2, 4183, 17, 369, 37, 215, 1345, 143, 2, 5, 1838, 8, 1974, 15, 36, 119, 257, 85, 52, 486, 9, 6, 2, 2, 63, 271, 6, 196, 96, 949, 4121, 4, 2, 7, 4, 2212, 2436, 819, 63, 47, 77, 2, 180, 6, 227, 11, 94, 2494, 2, 13, 423, 4, 168, 7, 4, 22, 5, 89, 665, 71, 270, 56, 5, 13, 197, 12, 161, 2, 99, 76, 23, 2, 7, 419, 665, 40, 91, 85, 108, 7, 4, 2084, 5, 4773, 81, 55, 52, 1901]\n"
     ]
    }
   ],
   "source": [
    "print(X_train[6])"
   ]
  },
  {
   "cell_type": "code",
   "execution_count": 7,
   "metadata": {},
   "outputs": [
    {
     "name": "stdout",
     "output_type": "stream",
     "text": [
      "1\n"
     ]
    }
   ],
   "source": [
    "print(y_train[6])"
   ]
  },
  {
   "cell_type": "markdown",
   "metadata": {},
   "source": [
    "Label 1 is used for positive and labet 0 is used for negative reviews."
   ]
  },
  {
   "cell_type": "markdown",
   "metadata": {},
   "source": [
    "<p style='text-align:justify'>When working with text data it is very handy to know which words correspond to which index;also, it is useful to know which index correspond to which word. The IMDB dataset provided with keras has \"get_word_index\" function, which returns a dictionary contaring words as keys and indexes as values.s</p>"
   ]
  },
  {
   "cell_type": "code",
   "execution_count": 8,
   "metadata": {},
   "outputs": [],
   "source": [
    "word2id = imdb.get_word_index()"
   ]
  },
  {
   "cell_type": "code",
   "execution_count": 9,
   "metadata": {},
   "outputs": [
    {
     "name": "stdout",
     "output_type": "stream",
     "text": [
      "1\n"
     ]
    }
   ],
   "source": [
    "print(word2id['the'])"
   ]
  },
  {
   "cell_type": "markdown",
   "metadata": {},
   "source": [
    "As we can see \"the\" is the most frequent word since its index is 1."
   ]
  },
  {
   "cell_type": "markdown",
   "metadata": {},
   "source": [
    "Now, let's do the reverse and build a dictionary with indexes as keys and words as values."
   ]
  },
  {
   "cell_type": "code",
   "execution_count": 10,
   "metadata": {},
   "outputs": [],
   "source": [
    "id2word = {i: word for word, i in word2id.items()}"
   ]
  },
  {
   "cell_type": "code",
   "execution_count": 11,
   "metadata": {},
   "outputs": [
    {
     "data": {
      "text/plain": [
       "'the'"
      ]
     },
     "execution_count": 11,
     "metadata": {},
     "output_type": "execute_result"
    }
   ],
   "source": [
    "id2word[1]"
   ]
  },
  {
   "cell_type": "markdown",
   "metadata": {},
   "source": [
    "Having \"id2word\" we can find the corresponding word for instance for the review number 6."
   ]
  },
  {
   "cell_type": "code",
   "execution_count": 12,
   "metadata": {},
   "outputs": [
    {
     "data": {
      "text/plain": [
       "['the',\n",
       " 'and',\n",
       " 'full',\n",
       " 'involving',\n",
       " 'to',\n",
       " 'impressive',\n",
       " 'boring',\n",
       " 'this',\n",
       " 'as',\n",
       " 'and',\n",
       " 'and',\n",
       " 'br',\n",
       " 'villain',\n",
       " 'and',\n",
       " 'and',\n",
       " 'need',\n",
       " 'has',\n",
       " 'of',\n",
       " 'costumes',\n",
       " 'b',\n",
       " 'message',\n",
       " 'to',\n",
       " 'may',\n",
       " 'of',\n",
       " 'props',\n",
       " 'this',\n",
       " 'and',\n",
       " 'and',\n",
       " 'concept',\n",
       " 'issue',\n",
       " 'and',\n",
       " 'to',\n",
       " \"god's\",\n",
       " 'he',\n",
       " 'is',\n",
       " 'and',\n",
       " 'unfolds',\n",
       " 'movie',\n",
       " 'women',\n",
       " 'like',\n",
       " \"isn't\",\n",
       " 'surely',\n",
       " \"i'm\",\n",
       " 'and',\n",
       " 'to',\n",
       " 'toward',\n",
       " 'in',\n",
       " \"here's\",\n",
       " 'for',\n",
       " 'from',\n",
       " 'did',\n",
       " 'having',\n",
       " 'because',\n",
       " 'very',\n",
       " 'quality',\n",
       " 'it',\n",
       " 'is',\n",
       " 'and',\n",
       " 'and',\n",
       " 'really',\n",
       " 'book',\n",
       " 'is',\n",
       " 'both',\n",
       " 'too',\n",
       " 'worked',\n",
       " 'carl',\n",
       " 'of',\n",
       " 'and',\n",
       " 'br',\n",
       " 'of',\n",
       " 'reviewer',\n",
       " 'closer',\n",
       " 'figure',\n",
       " 'really',\n",
       " 'there',\n",
       " 'will',\n",
       " 'and',\n",
       " 'things',\n",
       " 'is',\n",
       " 'far',\n",
       " 'this',\n",
       " 'make',\n",
       " 'mistakes',\n",
       " 'and',\n",
       " 'was',\n",
       " \"couldn't\",\n",
       " 'of',\n",
       " 'few',\n",
       " 'br',\n",
       " 'of',\n",
       " 'you',\n",
       " 'to',\n",
       " \"don't\",\n",
       " 'female',\n",
       " 'than',\n",
       " 'place',\n",
       " 'she',\n",
       " 'to',\n",
       " 'was',\n",
       " 'between',\n",
       " 'that',\n",
       " 'nothing',\n",
       " 'and',\n",
       " 'movies',\n",
       " 'get',\n",
       " 'are',\n",
       " 'and',\n",
       " 'br',\n",
       " 'yes',\n",
       " 'female',\n",
       " 'just',\n",
       " 'its',\n",
       " 'because',\n",
       " 'many',\n",
       " 'br',\n",
       " 'of',\n",
       " 'overly',\n",
       " 'to',\n",
       " 'descent',\n",
       " 'people',\n",
       " 'time',\n",
       " 'very',\n",
       " 'bland']"
      ]
     },
     "execution_count": 12,
     "metadata": {},
     "output_type": "execute_result"
    }
   ],
   "source": [
    "[id2word[x] for x in X_train[6]]"
   ]
  },
  {
   "cell_type": "markdown",
   "metadata": {},
   "source": [
    "Notice that since we are using only the first 5000 words the reviews does not represent the original full reviews. Instead each review contains only words among these 5000 words."
   ]
  },
  {
   "cell_type": "markdown",
   "metadata": {},
   "source": [
    "# Word Embedding"
   ]
  },
  {
   "cell_type": "markdown",
   "metadata": {},
   "source": [
    "<p style='text-align:justify'>Before the invention of word embedding techniques, a common way to represent words to neural  networks was their one-hot encoded representation. For instance, in our data where we've chosen our vocab size to be 5000, each word would be a vector of size 5000 with all elements equal to zero except the index that correspond to a specific word.</p>\n",
    "\n",
    "<p style='text-align:justify'>The are two main problems with one-hot representations. First, they are very high dimensional and sparse;hence, they are not computationally efficient. Second, the similarity or distance between these vectors are not meaningful. For example, if we consider cosine similarity as the similarity measure, the similarity between any two one-hot encoded vectors is zero. However, it will be desirable if we have semantically similar words to be more similar in terms of a similarity metric. For instance, we expect that similarity(\"man\",\"woman\") be greater than the similarity(\"man\",\"laptop\").</p>\n",
    "\n",
    "<p style='text-align:justify'>To overcome these issues, word embedding techniques have come into play. Two main advantages of this methods are as follows. First, opposite to one-hot representation they provide a much lower dimension vectors, like 300. Second, in the embedded representation semantically similar words will be spatially closer to each other.</p>\n",
    "\n",
    "<p style='text-align:justify'>One of the most well-known methods to obtain word embeddings is Word2Vec. Word2Vec is categorized to two methods: Continuous Bag of Word (CBOW) and Skip Gram. Both of these methods are neural networks in essence. The following figure illustrates their architectures.</p>"
   ]
  },
  {
   "cell_type": "code",
   "execution_count": 13,
   "metadata": {},
   "outputs": [
    {
     "data": {
      "image/png": "[encoded data removed]",
      "text/plain": [
       "<IPython.core.display.Image object>"
      ]
     },
     "execution_count": 13,
     "metadata": {},
     "output_type": "execute_result"
    }
   ],
   "source": [
    "from IPython.display import Image\n",
    "Image(filename='./Pics/Word2Vec1.png')"
   ]
  },
  {
   "cell_type": "markdown",
   "metadata": {},
   "source": [
    "<p style='text-align:justify'>In the CBOW method the goal is to predict the center word (target word) based on its context. Usually, context is defined as a window of predefined length on both left and right side of the center word. Note that the input and output are all one-hot encoded. After training the model, the projection layer (embedding layer) is what we are interested in. In other words, the embedding of the center word will be the output of the projection layer. </p>\n",
    "\n",
    "<p style='text-align:justify'>The Skip-gram model do the reverse of CBOW model. It predicts context words from the center or target word. After fitting the model, again the output of the projection layer will be the embedded representation of the center word.</p>"
   ]
  },
  {
   "cell_type": "markdown",
   "metadata": {},
   "source": [
    "# Pre-trained Word2Vec model"
   ]
  },
  {
   "cell_type": "markdown",
   "metadata": {},
   "source": [
    "<p style='text-align:justify'>Before using Word2Vec for our sentiment analysis task, first let's load a pre-trained Word2Vec model and see how these embeddings look like in practice. For this purpose, I am going to use Gensim library which is a well-known library for natural language processing. Google has trained a Word2Vec model on Google News Dataset. The model contains 3 million words and phrases and the embedding size is 300. Loading this model is Gensim is as simple as follows.</p>"
   ]
  },
  {
   "cell_type": "code",
   "execution_count": 14,
   "metadata": {},
   "outputs": [],
   "source": [
    "import gensim\n",
    "\n",
    "word_vectors = gensim.models.KeyedVectors.load_word2vec_format\\\n",
    "    ('./GoogleNews-vectors-negative300.bin.gz', binary=True)"
   ]
  },
  {
   "cell_type": "markdown",
   "metadata": {},
   "source": [
    "Let's see how we can use this model by looking at some of its features and functions."
   ]
  },
  {
   "cell_type": "code",
   "execution_count": 15,
   "metadata": {},
   "outputs": [
    {
     "data": {
      "text/plain": [
       "gensim.models.keyedvectors.Word2VecKeyedVectors"
      ]
     },
     "execution_count": 15,
     "metadata": {},
     "output_type": "execute_result"
    }
   ],
   "source": [
    "type(word_vectors)"
   ]
  },
  {
   "cell_type": "code",
   "execution_count": 16,
   "metadata": {},
   "outputs": [
    {
     "data": {
      "text/plain": [
       "array([ 0.11279297, -0.02612305, -0.04492188,  0.06982422,  0.140625  ,\n",
       "        0.03039551, -0.04370117,  0.24511719,  0.08740234, -0.05053711,\n",
       "        0.23144531, -0.07470703,  0.21875   ,  0.03466797, -0.14550781,\n",
       "        0.05761719,  0.00671387, -0.00701904,  0.13183594, -0.25390625,\n",
       "        0.14355469, -0.140625  , -0.03564453, -0.21289062, -0.24804688,\n",
       "        0.04980469, -0.09082031,  0.14453125,  0.05712891, -0.10400391,\n",
       "       -0.19628906, -0.20507812, -0.27539062,  0.03063965,  0.20117188,\n",
       "        0.17382812,  0.09130859, -0.10107422,  0.22851562, -0.04077148,\n",
       "        0.02709961, -0.00106049,  0.02709961,  0.34179688, -0.13183594,\n",
       "       -0.078125  ,  0.02197266, -0.18847656, -0.17480469, -0.05566406,\n",
       "       -0.20898438,  0.04858398, -0.07617188, -0.15625   , -0.05419922,\n",
       "        0.01672363, -0.02722168, -0.11132812, -0.03588867, -0.18359375,\n",
       "        0.28710938,  0.01757812,  0.02185059, -0.05664062, -0.01251221,\n",
       "        0.01708984, -0.21777344, -0.06787109,  0.04711914, -0.00668335,\n",
       "        0.08544922, -0.02209473,  0.31835938,  0.01794434, -0.02246094,\n",
       "       -0.03051758, -0.09570312,  0.24414062,  0.20507812,  0.05419922,\n",
       "        0.29101562,  0.03637695,  0.04956055, -0.06689453,  0.09277344,\n",
       "       -0.10595703, -0.04370117,  0.19726562, -0.03015137,  0.05615234,\n",
       "        0.08544922, -0.09863281, -0.02392578, -0.08691406, -0.22460938,\n",
       "       -0.16894531,  0.09521484, -0.0612793 , -0.03015137, -0.265625  ,\n",
       "       -0.13378906,  0.00139618,  0.01794434,  0.10107422,  0.13964844,\n",
       "        0.06445312, -0.09765625, -0.11376953, -0.24511719, -0.15722656,\n",
       "        0.00457764,  0.12988281, -0.03540039, -0.08105469,  0.18652344,\n",
       "        0.03125   , -0.09326172, -0.04760742,  0.23730469,  0.11083984,\n",
       "        0.08691406,  0.01916504,  0.21386719, -0.0065918 , -0.08984375,\n",
       "       -0.02502441, -0.09863281, -0.05639648, -0.26757812,  0.19335938,\n",
       "       -0.08886719, -0.25976562,  0.05957031, -0.10742188,  0.09863281,\n",
       "        0.1484375 ,  0.04101562,  0.00340271, -0.06591797, -0.02941895,\n",
       "        0.20019531, -0.00521851,  0.02355957, -0.13671875, -0.12597656,\n",
       "       -0.10791016,  0.0067749 ,  0.15917969,  0.0145874 , -0.15136719,\n",
       "        0.07519531, -0.02905273,  0.01843262,  0.20800781,  0.25195312,\n",
       "       -0.11523438, -0.23535156,  0.04101562, -0.11035156,  0.02905273,\n",
       "        0.22460938, -0.04272461,  0.09667969,  0.11865234,  0.08007812,\n",
       "        0.07958984,  0.3125    , -0.14941406, -0.234375  ,  0.06079102,\n",
       "        0.06982422, -0.14355469, -0.05834961, -0.36914062, -0.10595703,\n",
       "        0.00738525,  0.24023438, -0.10400391, -0.02124023,  0.05712891,\n",
       "       -0.11621094, -0.16894531, -0.06396484, -0.12060547,  0.08105469,\n",
       "       -0.13769531, -0.08447266,  0.12792969, -0.15429688,  0.17871094,\n",
       "        0.2421875 , -0.06884766,  0.03320312,  0.04394531, -0.04589844,\n",
       "        0.03686523, -0.07421875, -0.01635742, -0.24121094, -0.08203125,\n",
       "       -0.01733398,  0.0291748 ,  0.10742188,  0.11279297,  0.12890625,\n",
       "        0.01416016, -0.28710938,  0.16503906, -0.25585938,  0.2109375 ,\n",
       "       -0.19238281,  0.22363281,  0.04541016,  0.00872803,  0.11376953,\n",
       "        0.375     ,  0.09765625,  0.06201172,  0.12109375, -0.24316406,\n",
       "        0.203125  ,  0.12158203,  0.08642578,  0.01782227,  0.17382812,\n",
       "        0.01855469,  0.03613281, -0.02124023, -0.02905273, -0.04541016,\n",
       "        0.1796875 ,  0.06494141, -0.13378906, -0.09228516,  0.02172852,\n",
       "        0.02099609,  0.07226562,  0.3046875 , -0.27539062, -0.30078125,\n",
       "        0.08691406, -0.22949219,  0.0546875 , -0.34179688, -0.00680542,\n",
       "       -0.0291748 , -0.03222656,  0.16210938,  0.01141357,  0.23339844,\n",
       "       -0.0859375 , -0.06494141,  0.15039062,  0.17675781,  0.08251953,\n",
       "       -0.26757812, -0.11669922,  0.01330566,  0.01818848,  0.10009766,\n",
       "       -0.09570312,  0.109375  , -0.16992188, -0.23046875, -0.22070312,\n",
       "        0.0625    ,  0.03662109, -0.125     ,  0.05151367, -0.18847656,\n",
       "        0.22949219,  0.26367188, -0.09814453,  0.06176758,  0.11669922,\n",
       "        0.23046875,  0.32617188,  0.02038574, -0.03735352, -0.12255859,\n",
       "        0.296875  , -0.25      , -0.08544922, -0.03149414,  0.38085938,\n",
       "        0.02929688, -0.265625  ,  0.42382812, -0.1484375 ,  0.14355469,\n",
       "       -0.03125   ,  0.00717163, -0.16601562, -0.15820312,  0.03637695,\n",
       "       -0.16796875, -0.01483154,  0.09667969, -0.05761719, -0.00515747],\n",
       "      dtype=float32)"
      ]
     },
     "execution_count": 16,
     "metadata": {},
     "output_type": "execute_result"
    }
   ],
   "source": [
    "word_vectors['book']"
   ]
  },
  {
   "cell_type": "markdown",
   "metadata": {},
   "source": [
    "The above line of code shows that we can pass each word and get the embedding of that word. Let's find out the dimension of the embedding vector."
   ]
  },
  {
   "cell_type": "code",
   "execution_count": 17,
   "metadata": {},
   "outputs": [
    {
     "data": {
      "text/plain": [
       "(300,)"
      ]
     },
     "execution_count": 17,
     "metadata": {},
     "output_type": "execute_result"
    }
   ],
   "source": [
    "word_vectors['book'].shape"
   ]
  },
  {
   "cell_type": "markdown",
   "metadata": {},
   "source": [
    "So, as mentioned earlier the embedding dimension in this model is 300."
   ]
  },
  {
   "cell_type": "markdown",
   "metadata": {},
   "source": [
    "We can use this model to find similar words to a given word in terms of cosine similarity."
   ]
  },
  {
   "cell_type": "code",
   "execution_count": 18,
   "metadata": {},
   "outputs": [
    {
     "data": {
      "text/plain": [
       "[('tome', 0.7485830783843994),\n",
       " ('books', 0.7379178404808044),\n",
       " ('memoir', 0.7302927374839783),\n",
       " ('paperback_edition', 0.6868364810943604),\n",
       " ('autobiography', 0.6741527915000916),\n",
       " ('memoirs', 0.6505153179168701),\n",
       " ('Book', 0.6479282379150391),\n",
       " ('paperback', 0.6471226811408997),\n",
       " ('novels', 0.6341458559036255),\n",
       " ('hardback', 0.6283079385757446)]"
      ]
     },
     "execution_count": 18,
     "metadata": {},
     "output_type": "execute_result"
    }
   ],
   "source": [
    "word_vectors.similar_by_vector('book')"
   ]
  },
  {
   "cell_type": "code",
   "execution_count": 19,
   "metadata": {},
   "outputs": [
    {
     "data": {
      "text/plain": [
       "[('woman', 0.7664012908935547),\n",
       " ('boy', 0.6824870109558105),\n",
       " ('teenager', 0.6586930155754089),\n",
       " ('teenage_girl', 0.6147903800010681),\n",
       " ('girl', 0.5921714305877686),\n",
       " ('suspected_purse_snatcher', 0.5716364979743958),\n",
       " ('robber', 0.5585119128227234),\n",
       " ('Robbery_suspect', 0.5584409236907959),\n",
       " ('teen_ager', 0.5549196600914001),\n",
       " ('men', 0.5489763021469116)]"
      ]
     },
     "execution_count": 19,
     "metadata": {},
     "output_type": "execute_result"
    }
   ],
   "source": [
    "word_vectors.similar_by_vector('man')"
   ]
  },
  {
   "cell_type": "markdown",
   "metadata": {},
   "source": [
    "It is actually interesting. We can see that the words similar to the given words are actually semantically similar."
   ]
  },
  {
   "cell_type": "markdown",
   "metadata": {},
   "source": [
    "We can find the cosine similarity between two words as follows."
   ]
  },
  {
   "cell_type": "code",
   "execution_count": 20,
   "metadata": {},
   "outputs": [
    {
     "data": {
      "text/plain": [
       "0.76640123"
      ]
     },
     "execution_count": 20,
     "metadata": {},
     "output_type": "execute_result"
    }
   ],
   "source": [
    "word_vectors.similarity('man','woman')"
   ]
  },
  {
   "cell_type": "code",
   "execution_count": 21,
   "metadata": {},
   "outputs": [
    {
     "data": {
      "text/plain": [
       "0.05060061"
      ]
     },
     "execution_count": 21,
     "metadata": {},
     "output_type": "execute_result"
    }
   ],
   "source": [
    "word_vectors.similarity('man','book')"
   ]
  },
  {
   "cell_type": "markdown",
   "metadata": {},
   "source": [
    "Expected! We actually expected that \"man\" is more similar to \"woman\" than to \"book\"."
   ]
  },
  {
   "cell_type": "markdown",
   "metadata": {},
   "source": [
    "<p style='text-align:justify'>We can perform arithmetic operations on these vector and see some interesting results. For example, one very famous example is that if we add vectors of \"woman\" and \"king\" then subtract \"man\" from it, what would you expect to get?</p>"
   ]
  },
  {
   "cell_type": "code",
   "execution_count": 22,
   "metadata": {},
   "outputs": [
    {
     "name": "stderr",
     "output_type": "stream",
     "text": [
      "/home/peyman/anaconda3/lib/python3.6/site-packages/ipykernel_launcher.py:1: DeprecationWarning: Call to deprecated `wv` (Attribute will be removed in 4.0.0, use self instead).\n",
      "  \"\"\"Entry point for launching an IPython kernel.\n"
     ]
    },
    {
     "data": {
      "text/plain": [
       "[('queen', 0.7118192911148071),\n",
       " ('monarch', 0.6189674139022827),\n",
       " ('princess', 0.5902431011199951),\n",
       " ('crown_prince', 0.5499460697174072),\n",
       " ('prince', 0.5377321243286133),\n",
       " ('kings', 0.5236844420433044),\n",
       " ('Queen_Consort', 0.5235945582389832),\n",
       " ('queens', 0.518113374710083),\n",
       " ('sultan', 0.5098593235015869),\n",
       " ('monarchy', 0.5087411999702454)]"
      ]
     },
     "execution_count": 22,
     "metadata": {},
     "output_type": "execute_result"
    }
   ],
   "source": [
    "word_vectors.wv.most_similar(positive=['woman','king'],negative=['man'])"
   ]
  },
  {
   "cell_type": "markdown",
   "metadata": {},
   "source": [
    "Interesting! The most similar is \"queen\"! Very intuitive!"
   ]
  },
  {
   "cell_type": "markdown",
   "metadata": {},
   "source": [
    "# Visualizing word embeddings using t-SNE"
   ]
  },
  {
   "cell_type": "markdown",
   "metadata": {},
   "source": [
    "t-Distributed Stochastic Neighbor Embedding (t-SNE) is a dimensionality reduction technique that is especially well-suited for visualization purposes of high-dimensional dataset. In the following code I am going use this technique to map word embeddings on a two dimensional space and visualize them."
   ]
  },
  {
   "cell_type": "code",
   "execution_count": 37,
   "metadata": {},
   "outputs": [],
   "source": [
    "from sklearn.manifold import TSNE\n",
    "import matplotlib.pyplot as plt\n",
    "import numpy as np\n",
    "\n",
    "def tsne_word_embedding(model, word):\n",
    "    words_array = np.empty((0, 300), dtype='f')\n",
    "    word_labels = [word]\n",
    "\n",
    "    # get most similar words\n",
    "    similar_words = model.similar_by_word(word)\n",
    "\n",
    "    # add vectors of similar words to words_array\n",
    "    words_array = np.append(words_array, np.array([model[word]]), axis=0)\n",
    "    for wrd_score in similar_words:\n",
    "        wrd_vector = model[wrd_score[0]]\n",
    "        word_labels.append(wrd_score[0])\n",
    "        words_array = np.append(words_array, np.array([wrd_vector]), axis=0)\n",
    "\n",
    "    # find tsne coords for 2 dimensions\n",
    "    tsne = TSNE(n_components=2, random_state=0)\n",
    "    np.set_printoptions(suppress=True)\n",
    "    Y = tsne.fit_transform(words_array)\n",
    "\n",
    "    x_coords = Y[:, 0]\n",
    "    y_coords = Y[:, 1]\n",
    "    # display scatter plot\n",
    "    plt.scatter(x_coords, y_coords)\n",
    "\n",
    "    for label, x, y in zip(word_labels, x_coords, y_coords):\n",
    "        plt.annotate(label, xy=(x, y), xytext=(0, 0), textcoords='offset points')\n",
    "    plt.xlim(x_coords.min() - 5, x_coords.max() + 5)\n",
    "    plt.ylim(y_coords.min() - 5, y_coords.max() + 5)\n",
    "    plt.show()\n"
   ]
  },
  {
   "cell_type": "code",
   "execution_count": 38,
   "metadata": {},
   "outputs": [
    {
     "data": {
      "image/png": "[encoded data removed]",
      "text/plain": [
       "<Figure size 432x288 with 1 Axes>"
      ]
     },
     "metadata": {},
     "output_type": "display_data"
    }
   ],
   "source": [
    "tsne_word_embedding(word_vectors, 'man')"
   ]
  },
  {
   "cell_type": "markdown",
   "metadata": {},
   "source": [
    "# A simple LSTM deep network with embedding as part of the architecture"
   ]
  },
  {
   "cell_type": "markdown",
   "metadata": {},
   "source": [
    "<p style='text-align:justify'>In this section we are going to  forget about the pre-trained word2vec model and make our own word2vec model. One way of doing this in Keras is to make embedding part of the model architecture. </p>\n",
    "\n",
    "<p style='text-align:justify'>Keras has a built-in embedding layer that can be used for text data. It expects integer encoded data as its input. It can be used in two main ways: 1- as a stand alone model to learn word embedding that can be used later. 2- as part of the entire model architecture. Here we are intended to use it as part of the entire model.</p>\n",
    "\n",
    "<p style='text-align:justify'>Also, it is worth to mention that the embedding layer is defined as the first layer of the network. It is defined as the first layer so that the rest of the model can be built on top of the learned embeddings. The main three arguments that must be defined for an Keras embedding layers are as follows:\n",
    "</p>\n",
    "\n",
    "- input_dim: It is the equivalent of vocabulary size. For example, in our case where we have 5000 words it will be set to 5000.\n",
    "\n",
    "- output_dum: It is the embedding size. For example, if we set it to be 300, it means that each word will be represented by a 300 dimension vector.\n",
    "\n",
    "- input_length: To be able to feed the data to the embedding layer all input sequences must have the same length. input_length determines that length.\n",
    "\n",
    "Let's first import some required Keras libraries."
   ]
  },
  {
   "cell_type": "code",
   "execution_count": 24,
   "metadata": {},
   "outputs": [],
   "source": [
    "from keras.preprocessing import sequence\n",
    "from keras import Sequential\n",
    "from keras.layers import Embedding, LSTM, Dense, Dropout"
   ]
  },
  {
   "cell_type": "markdown",
   "metadata": {},
   "source": [
    "<p style='text-align:justify'>As mentioned above, since all sentences are needed to be the same length we need to pad all sentences to the length of longest sentence so that all sentences have the same length.</p>"
   ]
  },
  {
   "cell_type": "code",
   "execution_count": 25,
   "metadata": {},
   "outputs": [],
   "source": [
    "max_words = 500\n",
    "X_train = sequence.pad_sequences(X_train,maxlen=max_words)\n",
    "X_test = sequence.pad_sequences(X_test,maxlen=max_words)"
   ]
  },
  {
   "cell_type": "markdown",
   "metadata": {},
   "source": [
    "Let's start defining a simple lstm model including embedding layer. "
   ]
  },
  {
   "cell_type": "code",
   "execution_count": 26,
   "metadata": {},
   "outputs": [],
   "source": [
    "embedding_size=300\n",
    "model=Sequential()\n",
    "model.add(Embedding(input_dim=vocabulary_size, output_dim=embedding_size, input_length=max_words))\n",
    "model.add(LSTM(units=100))\n",
    "model.add(Dense(1, activation='sigmoid'))"
   ]
  },
  {
   "cell_type": "markdown",
   "metadata": {},
   "source": [
    "<p style='text-align:justify'>In the above code an LSTM layer with 100 units is used. Also, because it is a classification task the last layer is a Dense layer with one unit and sigmoid activation function.</p>"
   ]
  },
  {
   "cell_type": "markdown",
   "metadata": {},
   "source": [
    "<p style='text-align:justify'>The next step is to compile the model. A typical loss function for binary classification task is \"binary_crossentropy\", and \"adam\" is going to be used as the optimization algorithm. Also, to get an intuitive sense of model's performance \"accuracy\" metric is used.</p>"
   ]
  },
  {
   "cell_type": "code",
   "execution_count": 27,
   "metadata": {},
   "outputs": [],
   "source": [
    "model.compile(loss='binary_crossentropy',optimizer='adam',metrics=['accuracy'])"
   ]
  },
  {
   "cell_type": "markdown",
   "metadata": {},
   "source": [
    "The batch size and number of epochs for training are defined as follows."
   ]
  },
  {
   "cell_type": "code",
   "execution_count": 28,
   "metadata": {},
   "outputs": [],
   "source": [
    "batch_size = 64\n",
    "num_epochs = 3"
   ]
  },
  {
   "cell_type": "markdown",
   "metadata": {},
   "source": [
    "Now, we can actually start traing the model."
   ]
  },
  {
   "cell_type": "code",
   "execution_count": 29,
   "metadata": {},
   "outputs": [
    {
     "name": "stdout",
     "output_type": "stream",
     "text": [
      "Epoch 1/3\n",
      "25000/25000 [==============================] - 803s 32ms/step - loss: 0.4507 - acc: 0.7872\n",
      "Epoch 2/3\n",
      "25000/25000 [==============================] - 799s 32ms/step - loss: 0.3009 - acc: 0.8777\n",
      "Epoch 3/3\n",
      "25000/25000 [==============================] - 875s 35ms/step - loss: 0.3015 - acc: 0.8761\n"
     ]
    },
    {
     "data": {
      "text/plain": [
       "<keras.callbacks.History at 0x7f2cb7a81eb8>"
      ]
     },
     "execution_count": 29,
     "metadata": {},
     "output_type": "execute_result"
    }
   ],
   "source": [
    "model.fit(X_train, y_train, batch_size=batch_size, epochs=num_epochs)"
   ]
  },
  {
   "cell_type": "markdown",
   "metadata": {},
   "source": [
    "As the final step, let's see the performance of the model on our test set."
   ]
  },
  {
   "cell_type": "code",
   "execution_count": 30,
   "metadata": {},
   "outputs": [
    {
     "name": "stdout",
     "output_type": "stream",
     "text": [
      "Test accuracy: 0.85168\n"
     ]
    }
   ],
   "source": [
    "scores = model.evaluate(X_test, y_test, verbose=0)\n",
    "print('Test accuracy:', scores[1])"
   ]
  },
  {
   "cell_type": "markdown",
   "metadata": {},
   "source": [
    "# A LSTM model on top of pre-trained embedding"
   ]
  },
  {
   "cell_type": "markdown",
   "metadata": {},
   "source": [
    "<p style='text-align:justify'>In this section I am going to turn to use an LSTM model on top of the pretrained google embedding. Not only we are going to use this pretrained embedding, but also we are going to use it to do transfer learning. I can be considered as transfer learning because we will be using the pre-trained weight as our initial weight for the Keras embedding and kind of tailor it to our sentiment analysis application by further training of the model.</p>\n",
    "\n",
    "<p style='text-align:justify'>This code will be very similar to the previous section. The only difference is that we need to first load the pre-trained Google embedding weights and set these weights as our initial weights of our Keras embedding layer.\n",
    "</p>"
   ]
  },
  {
   "cell_type": "code",
   "execution_count": 31,
   "metadata": {},
   "outputs": [],
   "source": [
    "import gensim\n",
    "\n",
    "word_vectors = gensim.models.KeyedVectors.load_word2vec_format\\\n",
    "    ('./GoogleNews-vectors-negative300.bin.gz', binary=True)"
   ]
  },
  {
   "cell_type": "markdown",
   "metadata": {},
   "source": [
    "<p style='text-align:justify'>However, before setting these weights as the initial weights for the Keras embedding layer, we need to select only those words that exist in our dataset. We are going to do this by iterating through words in ‘word2id’ dictionary that were built earlier and select their Google embedding representation.</p>"
   ]
  },
  {
   "cell_type": "code",
   "execution_count": 32,
   "metadata": {},
   "outputs": [],
   "source": [
    "import numpy as np\n",
    "\n",
    "embedding_matrix = np.zeros((vocabulary_size, embedding_size))\n",
    "for word,i in word2id.items():\n",
    "    if i >= vocabulary_size:\n",
    "        continue\n",
    "    try:\n",
    "        embedding_vector = word_vectors[word]\n",
    "        embedding_matrix[i] = embedding_vector\n",
    "    except:\n",
    "        embedding_matrix[i] = np.random.normal(0, np.sqrt(0.25), embedding_size)\n"
   ]
  },
  {
   "cell_type": "code",
   "execution_count": 33,
   "metadata": {},
   "outputs": [],
   "source": [
    "model=Sequential()\n",
    "model.add(Embedding(vocabulary_size, embedding_size, input_length=max_words, \\\n",
    "                    weights=[embedding_matrix]))\n",
    "model.add(LSTM(100))\n",
    "model.add(Dense(1, activation='sigmoid'))\n"
   ]
  },
  {
   "cell_type": "markdown",
   "metadata": {},
   "source": [
    "Note that the only difference between this model and the previous model is the use of weights argument in the Keras embedding layer."
   ]
  },
  {
   "cell_type": "code",
   "execution_count": 34,
   "metadata": {},
   "outputs": [],
   "source": [
    "model.compile(loss='binary_crossentropy',optimizer='adam',metrics=['accuracy'])"
   ]
  },
  {
   "cell_type": "code",
   "execution_count": 35,
   "metadata": {},
   "outputs": [
    {
     "name": "stdout",
     "output_type": "stream",
     "text": [
      "Epoch 1/3\n",
      "25000/25000 [==============================] - 843s 34ms/step - loss: 0.5388 - acc: 0.7233\n",
      "Epoch 2/3\n",
      "25000/25000 [==============================] - 806s 32ms/step - loss: 0.3740 - acc: 0.8391\n",
      "Epoch 3/3\n",
      "25000/25000 [==============================] - 834s 33ms/step - loss: 0.2700 - acc: 0.8914\n"
     ]
    },
    {
     "data": {
      "text/plain": [
       "<keras.callbacks.History at 0x7f2cb7a81128>"
      ]
     },
     "execution_count": 35,
     "metadata": {},
     "output_type": "execute_result"
    }
   ],
   "source": [
    "model.fit(X_train, y_train, batch_size=batch_size, epochs=num_epochs)"
   ]
  },
  {
   "cell_type": "code",
   "execution_count": 36,
   "metadata": {},
   "outputs": [
    {
     "name": "stdout",
     "output_type": "stream",
     "text": [
      "Test accuracy: 0.86892\n"
     ]
    }
   ],
   "source": [
    "scores = model.evaluate(X_test, y_test, verbose=0)\n",
    "print('Test accuracy:', scores[1])"
   ]
  },
  {
   "cell_type": "markdown",
   "metadata": {},
   "source": [
    "# Summary"
   ]
  },
  {
   "cell_type": "markdown",
   "metadata": {},
   "source": [
    "<p style='text-align:justify'>In this notebook we went through mainly three different things. One was what is word embedding and how to work with it and visualize embeddings of words in low dimension using dimensionality reduction techniques like t-SNE. The other one was how to create a LSTM recurrent neural network with an included Keras embedding layer for the sentiment analysis task. The last one was how to load a pre-trained embedding weights and built the model on top of that.</p>"
   ]
  }
 ],
 "metadata": {
  "kernelspec": {
   "display_name": "Python 3",
   "language": "python",
   "name": "python3"
  },
  "language_info": {
   "codemirror_mode": {
    "name": "ipython",
    "version": 3
   },
   "file_extension": ".py",
   "mimetype": "text/x-python",
   "name": "python",
   "nbconvert_exporter": "python",
   "pygments_lexer": "ipython3",
   "version": "3.6.5"
  }
 },
 "nbformat": 4,
 "nbformat_minor": 2
}
